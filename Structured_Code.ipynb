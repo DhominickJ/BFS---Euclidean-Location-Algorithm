{
 "cells": [
  {
   "cell_type": "code",
   "execution_count": null,
   "metadata": {},
   "outputs": [],
   "source": [
    "import pandas as pd\n",
    "import math\n",
    "import networkx as nx\n",
    "import matplotlib.pyplot as plt\n"
   ]
  },
  {
   "cell_type": "code",
   "execution_count": null,
   "metadata": {},
   "outputs": [],
   "source": [
    "# Load the data into the data frame\n",
    "fields = ['NAMES', 'LATITUDE', 'LONGITUDE', 'CITY', 'ZIP']\n",
    "df = pd.read_csv('botanicalcris.csv', skipinitialspace=True, usecols=fields)\n",
    "print(df)"
   ]
  },
  {
   "cell_type": "code",
   "execution_count": null,
   "metadata": {},
   "outputs": [],
   "source": [
    "# Define a function to calculate Euclidean distance with the given formula\n",
    "def euclidean_distance(point1, point2):\n",
    "    sum = 0\n",
    "    for a, b in zip(point1, point2):\n",
    "        sum += (a - b) ** 2\n",
    "    sum = math.sqrt(sum)\n",
    "    return sum"
   ]
  },
  {
   "cell_type": "code",
   "execution_count": null,
   "metadata": {},
   "outputs": [],
   "source": [
    "# TODO: DONE Rewrite the Whole Algorithm for Readability as Instructed\n",
    "def manhattan_distance(point1, point2):\n",
    "    # A function that uses the manhattan distance to calculate for the location of the parks\n",
    "    distance = 0\n",
    "    for x1, x2 in zip(point1, point2):\n",
    "        difference = x2 - x1\n",
    "        absolute_difference = abs(difference)\n",
    "        distance += absolute_difference\n",
    "    return distance\n"
   ]
  },
  {
   "cell_type": "code",
   "execution_count": null,
   "metadata": {},
   "outputs": [],
   "source": [
    "# TODO: DONE Implemented Manual Sorting with Bubble Sort \n",
    "def bubblesort(distances):\n",
    "    # A sorting algorithm that goes in a linear method and sorts the items by comparing the items if they are more than from the one index above from them, we exchange their position.\n",
    "    for i in range(len(distances)):\n",
    "        for j in range(len(distances) - i - 1):\n",
    "            if distances[j][1] > distances[j + 1][1]:\n",
    "                distances[j], distances[j + 1] = distances[j + 1], distances[j]\n",
    "    return distances"
   ]
  },
  {
   "cell_type": "code",
   "execution_count": null,
   "metadata": {},
   "outputs": [],
   "source": [
    "# Define a function to find the k nearest neighbors using Euclidean distance and Manhattan Distance \n",
    "# TODO: DONE Implement the Bubble Sort for Alternative Sorting Algorithm\n",
    "def get_euclidean_neighbors(df, test_row, k):\n",
    "    distances = []\n",
    "    # Iterate or loop through the rows of dataframe as the columns are only \n",
    "    for index, row in df.iterrows(): \n",
    "        dist = euclidean_distance(test_row, [row['LATITUDE'], row['LONGITUDE']])\n",
    "        distances.append((row, dist))\n",
    "    distances = bubblesort(distances)\n",
    "    neighbors = [distances[i][0] for i in range(k)]\n",
    "    return neighbors"
   ]
  },
  {
   "cell_type": "code",
   "execution_count": null,
   "metadata": {},
   "outputs": [],
   "source": [
    "# Solving for the Manhattan Distance and find the neighbors using that algorithm\n",
    "def get_manhattan_neighbors(df, test_row, k):\n",
    "    distances = []\n",
    "    for index, row in df.iterrows(): \n",
    "        dist = manhattan_distance(test_row, [row['LATITUDE'], row['LONGITUDE']])\n",
    "        distances.append((row, dist))\n",
    "    distances = bubblesort(distances)\n",
    "    neighbors = [distances[i][0] for i in range(k)]\n",
    "    return neighbors"
   ]
  },
  {
   "cell_type": "code",
   "execution_count": null,
   "metadata": {},
   "outputs": [],
   "source": [
    "x = float(input(\"Enter your latitude location: \"))\n",
    "y = float(input(\"Enter your longitude location: \"))"
   ]
  },
  {
   "cell_type": "code",
   "execution_count": null,
   "metadata": {},
   "outputs": [],
   "source": [
    "# Get the k nearest neighbors\n",
    "k = 3\n",
    "standing_location = [x, y]  # This should be replaced with your location to check for the nearest park\n",
    "neighbors = get_manhattan_neighbors(df, standing_location, k)"
   ]
  },
  {
   "cell_type": "code",
   "execution_count": null,
   "metadata": {},
   "outputs": [],
   "source": [
    "# Print the nearest park\n",
    "print('The nearest park is: ', neighbors[0]['NAMES'])\n",
    "\n",
    "print('The 1st nearest park is: ', neighbors[0]['NAMES'])\n",
    "print('The 2nd nearest park is: ', neighbors[1]['NAMES'])\n",
    "print('The 3rd nearest park is: ', neighbors[2]['NAMES'])"
   ]
  },
  {
   "cell_type": "code",
   "execution_count": null,
   "metadata": {},
   "outputs": [],
   "source": [
    "#Print the k nearest parks\n",
    "for i in range(k):\n",
    "    if k > len(neighbors):\n",
    "        print('There are only ', len(neighbors), ' parks in the dataset.')\n",
    "        break\n",
    "\n",
    "# Create a graph object\n",
    "G = nx.Graph()\n",
    "\n",
    "# Add nodes (parks) to the graph with BFS Integration\n",
    "for neighbor in neighbors:\n",
    "    G.add_node(neighbor['NAMES'])\n",
    "\n",
    "# Add edges (distances) between parks\n",
    "for i in range(len(neighbors)):\n",
    "    for j in range(i + 1, len(neighbors)):\n",
    "        distance = euclidean_distance([neighbors[i]['LATITUDE'], neighbors[i]['LONGITUDE']],\n",
    "                                      [neighbors[j]['LATITUDE'], neighbors[j]['LONGITUDE']])\n",
    "        G.add_edge(neighbors[i]['NAMES'], neighbors[j]['NAMES'], weight=distance)\n",
    "\n",
    "# Draw the graph\n",
    "pos = nx.kamada_kawai_layout(G)\n",
    "labels = nx.get_edge_attributes(G, 'weight')\n",
    "nx.draw_networkx(G, pos)\n",
    "# nx.draw_networkx_edge_labels(G, pos, edge_labels=labels) # Use this in order to create show the distances of gardens\n",
    "nx.draw_networkx_nodes(G, pos, node_color='cyan', node_size=500)\n",
    "nx.draw_networkx_nodes(G, pos, nodelist=[neighbors[0]['NAMES']], node_color='red', node_size=500)\n",
    "plt.show()"
   ]
  }
 ],
 "metadata": {
  "language_info": {
   "name": "python"
  }
 },
 "nbformat": 4,
 "nbformat_minor": 2
}
